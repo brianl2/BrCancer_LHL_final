{
 "cells": [
  {
   "cell_type": "markdown",
   "id": "569faf4d-fbfd-419c-afcf-b1c380e8eaac",
   "metadata": {},
   "source": [
    "# Data Modeling\n",
    "Trying to model with the regular features, just to see how the model is to begin with. \n",
    "\n"
   ]
  }
 ],
 "metadata": {
  "kernelspec": {
   "display_name": "Python 3",
   "language": "python",
   "name": "python3"
  },
  "language_info": {
   "codemirror_mode": {
    "name": "ipython",
    "version": 3
   },
   "file_extension": ".py",
   "mimetype": "text/x-python",
   "name": "python",
   "nbconvert_exporter": "python",
   "pygments_lexer": "ipython3",
   "version": "3.8.8"
  }
 },
 "nbformat": 4,
 "nbformat_minor": 5
}
