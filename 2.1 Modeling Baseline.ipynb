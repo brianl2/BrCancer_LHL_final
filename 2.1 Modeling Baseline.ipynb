{
 "cells": [
  {
   "cell_type": "markdown",
   "id": "569faf4d-fbfd-419c-afcf-b1c380e8eaac",
   "metadata": {},
   "source": [
    "# Data Modeling\n",
    "Trying a baseline model with various features from the feature Engineering phase. \n",
    "- Oversampling techniques / Undersampling techniques - Finalizing the dataset to use. \n",
    "- Baseline model will be with Logistic regression. \n",
    "\n",
    "The data can be found here: https://www.kaggle.com/yasserh/breast-cancer-dataset\n",
    "\n",
    "Documentation can be found here: https://archive.ics.uci.edu/ml/datasets/breast+cancer+wisconsin+(diagnostic)\n",
    "\n",
    "You can also find the github repo here: https://github.com/brianl2/BrCancer_LHL_final\n",
    "\n"
   ]
  },
  {
   "cell_type": "code",
   "execution_count": 1,
   "id": "928fe6d6-fc79-4789-bd0e-06766842a1c9",
   "metadata": {},
   "outputs": [],
   "source": [
    "# import modules\n",
    "import pandas as pd \n",
    "import numpy as np \n",
    "from sklearn.preprocessing import StandardScaler\n",
    "from sklearn.linear_model import LogisticRegression\n",
    "import imblearn"
   ]
  },
  {
   "cell_type": "code",
   "execution_count": 3,
   "id": "2027b1d7-b9ed-4e48-884b-2d3d095fa1bc",
   "metadata": {},
   "outputs": [],
   "source": [
    "# oversampling to fix imbalance\n",
    "oversample = imblearn.over_sampling.SMOTE"
   ]
  }
 ],
 "metadata": {
  "kernelspec": {
   "display_name": "Python 3",
   "language": "python",
   "name": "python3"
  },
  "language_info": {
   "codemirror_mode": {
    "name": "ipython",
    "version": 3
   },
   "file_extension": ".py",
   "mimetype": "text/x-python",
   "name": "python",
   "nbconvert_exporter": "python",
   "pygments_lexer": "ipython3",
   "version": "3.8.8"
  }
 },
 "nbformat": 4,
 "nbformat_minor": 5
}
